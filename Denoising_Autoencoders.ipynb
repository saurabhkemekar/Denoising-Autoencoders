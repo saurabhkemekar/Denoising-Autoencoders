{
  "nbformat": 4,
  "nbformat_minor": 0,
  "metadata": {
    "colab": {
      "name": "Denoising_Autoencoders.ipynb",
      "provenance": []
    },
    "kernelspec": {
      "name": "python3",
      "display_name": "Python 3"
    },
    "language_info": {
      "name": "python"
    },
    "accelerator": "GPU"
  },
  "cells": [
    {
      "cell_type": "code",
      "metadata": {
        "id": "82_6DN8QNke0"
      },
      "source": [
        "\n",
        "import torch \n",
        "import torch.nn as nn\n",
        "import torchvision\n",
        "import torchvision.transforms as transforms\n",
        "from torch.utils.data import Dataset,DataLoader\n",
        "import matplotlib.pyplot as plt\n",
        "import numpy as np\n",
        "import torch.optim as optim  # For all Optimization algorithms, SGD, Adam, etc.\n",
        "import torch.nn.functional as F   # All functions that don't have any parameters\n",
        "\n"
      ],
      "execution_count": 1,
      "outputs": []
    },
    {
      "cell_type": "code",
      "metadata": {
        "id": "FnRGgh_hPUvI"
      },
      "source": [
        "\n",
        "# Setting Hyperparameters\n",
        "batch_size = 128\n",
        "learning_rate = 0.01\n",
        "num_epoch = 100"
      ],
      "execution_count": 2,
      "outputs": []
    },
    {
      "cell_type": "code",
      "metadata": {
        "id": "8rETnHcWNlvM"
      },
      "source": [
        "train_dataset = torchvision.datasets.MNIST(root= './data',train = True,transform= transforms.ToTensor(),download=True)\n",
        "test_dataset = torchvision.datasets.MNIST(root= './data',train = False,transform= transforms.ToTensor(),download=True)\n",
        "\n",
        "noise_train_dataset = np.zeros((len(train_dataset),1,28,28))\n",
        "noise_test_dataset = np.zeros((len(test_dataset),1,28,28))\n",
        "\n",
        "for i in range(len(train_dataset)):\n",
        "  if i < len(train_dataset)//2:\n",
        "    noise_train_dataset[i][0] = gaussian_noise(train_dataset[i][0][0])\n",
        "  else:\n",
        "    noise_train_dataset[i][0] = speckle_noise(train_dataset[i][0][0])\n",
        "\n",
        "for i in range(len(test_dataset)):\n",
        "  if i < len(test_dataset)//2:\n",
        "    noise_test_dataset[i][0] = gaussian_noise(test_dataset[i][0][0])\n",
        "  else:\n",
        "    noise_test_dataset[i][0] = speckle_noise(test_dataset[i][0][0])\n",
        "\n"
      ],
      "execution_count": 5,
      "outputs": []
    },
    {
      "cell_type": "code",
      "metadata": {
        "colab": {
          "base_uri": "https://localhost:8080/",
          "height": 179
        },
        "id": "zblpToHPOOii",
        "outputId": "9c421113-6730-4c68-d860-553491ec03bb"
      },
      "source": [
        "def gaussian_noise(img):\n",
        "  sigma = 0.1\n",
        "  mu = 0 \n",
        "  noise = np.random.normal(mu,sigma,img.shape)\n",
        "  return img + noise\n",
        "\n",
        "def speckle_noise(img):\n",
        "  row,col = img.shape\n",
        "  noise = np.random.rand(row,col)\n",
        "  return img + noise\n",
        "\n",
        "import numpy as np\n",
        "img = train_dataset[0][0][0]\n",
        "\n",
        "plt.subplot(1,3,1)\n",
        "plt.imshow(img,cmap = \"gray\")\n",
        "plt.title(\"Orignal Image\")\n",
        "noise_img = gaussian_noise(img)\n",
        "noise_img2 = speckle_noise(img)\n",
        "plt.subplot(1,3,2)\n",
        "plt.title(\"Gaussian Noise Image\")\n",
        "plt.imshow(noise_img,cmap = \"gray\")\n",
        "plt.subplot(1,3,3)\n",
        "plt.title(\"Speckle Noise Image\")\n",
        "plt.imshow(noise_img2,cmap = \"gray\")"
      ],
      "execution_count": 4,
      "outputs": [
        {
          "output_type": "execute_result",
          "data": {
            "text/plain": [
              "<matplotlib.image.AxesImage at 0x7f1140b37210>"
            ]
          },
          "metadata": {
            "tags": []
          },
          "execution_count": 4
        },
        {
          "output_type": "display_data",
          "data": {
            "image/png": "[encoded data removed]",
            "text/plain": [
              "<Figure size 432x288 with 3 Axes>"
            ]
          },
          "metadata": {
            "tags": [],
            "needs_background": "light"
          }
        }
      ]
    },
    {
      "cell_type": "code",
      "metadata": {
        "id": "rAEgZ4l9Pmr_"
      },
      "source": [
        "class MNIST_dataset(Dataset):\n",
        "  def __init__(self,input,label,transform = None):\n",
        "    self.input = input\n",
        "    self.label = label\n",
        "    self.transform = transform\n",
        "\n",
        "  def __len__(self):\n",
        "    return len(self.input)\n",
        "  \n",
        "  def __getitem__(self,indx):\n",
        "    #print(self.input.shape,self.)\n",
        "    img = self.input[indx]\n",
        "    label = self.label[indx][0]\n",
        "    \n",
        "    if self.transform:\n",
        "      img = self.transform(img)\n",
        "      label= self.transform(label)\n",
        "    return img,label\n",
        "\n",
        "class denoising_model(nn.Module):\n",
        "  def __init__(self):\n",
        "    super(denoising_model,self).__init__()\n",
        "    self.encoder=nn.Sequential(\n",
        "                  nn.Linear(28*28,256),\n",
        "                  nn.ReLU(True),\n",
        "                  nn.Linear(256,128),\n",
        "                  nn.ReLU(True),\n",
        "                  nn.Linear(128,64),\n",
        "                  nn.ReLU(True)\n",
        "        \n",
        "                  )\n",
        "    \n",
        "    self.decoder=nn.Sequential(\n",
        "                  nn.Linear(64,128),\n",
        "                  nn.ReLU(True),\n",
        "                  nn.Linear(128,256),\n",
        "                  nn.ReLU(True),\n",
        "                  nn.Linear(256,28*28),\n",
        "                  nn.Sigmoid(),\n",
        "                  )\n",
        "    \n",
        " \n",
        "  def forward(self,x):\n",
        "    x=self.encoder(x)\n",
        "    x=self.decoder(x)\n",
        "    \n",
        "    return x\n",
        "\n"
      ],
      "execution_count": 6,
      "outputs": []
    },
    {
      "cell_type": "code",
      "metadata": {
        "id": "HeLmTa_IPvoX"
      },
      "source": [
        "\n",
        "train_set = MNIST_dataset(noise_train_dataset,train_dataset)\n",
        "test_set = MNIST_dataset(noise_test_dataset,test_dataset)"
      ],
      "execution_count": 7,
      "outputs": []
    },
    {
      "cell_type": "code",
      "metadata": {
        "colab": {
          "base_uri": "https://localhost:8080/"
        },
        "id": "8dzbrUrr0nbh",
        "outputId": "25d4f458-55ed-409a-c90a-59fe8541386d"
      },
      "source": [
        "train_loader = DataLoader(train_set,batch_size = batch_size,shuffle=True)\n",
        "test_loader = DataLoader(test_set,batch_size = batch_size,shuffle=True)\n",
        "\n",
        "img,label = iter(test_loader).next()\n",
        "print(img.shape,label.shape)"
      ],
      "execution_count": 8,
      "outputs": [
        {
          "output_type": "stream",
          "text": [
            "torch.Size([128, 1, 28, 28]) torch.Size([128, 1, 28, 28])\n"
          ],
          "name": "stdout"
        }
      ]
    },
    {
      "cell_type": "code",
      "metadata": {
        "id": "9Y2kwJqs3aqT"
      },
      "source": [
        "def train(model,device,train_loader,criterion, optimizer,epoch):\n",
        "    model.train()\n",
        "    for i ,(data,targets) in enumerate(train_loader):\n",
        "        data, targets = data.view(data.shape[0],-1).float(),targets.view(targets.shape[0],-1).float()\n",
        "        data,targets = data.to(device), targets.to(device)\n",
        "        outputs = model(data)\n",
        "        loss = criterion(outputs,targets)\n",
        "        optimizer.zero_grad()\n",
        "        loss.backward()\n",
        "        optimizer.step()\n",
        "        if i%2000 ==0:\n",
        "            print('Train Epoch: {} [{}/{} ({:.0f}%)]\\tLoss: {:.6f}'.format(epoch, i * len(data), len(train_loader.dataset),\n",
        "                                            100. * i / len(train_loader), loss.item()))\n",
        "def test(model, device, test_loader):\n",
        "    model.eval()\n",
        "    test_loss = 0\n",
        "    correct = 0\n",
        "    with torch.no_grad():\n",
        "        for data, target in test_loader:\n",
        "            data, target = data.to(device), target.to(device)\n",
        "            data, target = data.view(data.shape[0],-1).float(),target.view(target.shape[0],-1).float()\n",
        "            output = model(data)\n",
        "            test_loss += criterion(output, target)# sum up batch loss\n",
        "            pred = output.max(1, keepdim=True)[1] # get the index of the max log-probability\n",
        "            #correct += pred.eq(target.view_as(pred)).sum().item()\n",
        "\n",
        "    test_loss /= len(test_loader.dataset)\n",
        "    print('\\nTest set: Average loss: {:.4f}'.format(test_loss, correct))"
      ],
      "execution_count": 9,
      "outputs": []
    },
    {
      "cell_type": "code",
      "metadata": {
        "id": "EWoYmwE_9qv8"
      },
      "source": [
        "model = denoising_model()\n",
        "device = torch.device(\"cuda\" if torch.cuda.is_available() else \"cpu\")\n",
        "model.to(device)\n",
        "# Loss and optimizer\n",
        "criterion = nn.MSELoss()\n",
        "optimizer = optim.Adam(model.parameters(), lr=learning_rate)\n",
        "\n",
        "schedular = optim.lr_scheduler.StepLR(optimizer,step_size= 3, gamma = 0.1)\n",
        "print(\"training Model\")\n",
        "for epoch in range(num_epoch):\n",
        "    train(model,device,train_loader,criterion,optimizer,epoch)\n",
        "    schedular.step()\n",
        "    test(model,device,test_loader)\n",
        "    if epoch%10 ==0:\n",
        "      torch.save(model.state_dict(),'seg_model.pth')\n"
      ],
      "execution_count": null,
      "outputs": []
    },
    {
      "cell_type": "code",
      "metadata": {
        "id": "VOoTyJoje_SH"
      },
      "source": [
        "torch.load(model.state_dict(),'seg_model.pth')"
      ],
      "execution_count": 12,
      "outputs": []
    },
    {
      "cell_type": "code",
      "metadata": {
        "id": "17MKFWNC-cOu",
        "colab": {
          "base_uri": "https://localhost:8080/"
        },
        "outputId": "e69aeb9f-10d4-4f3b-c1f6-ea6d17faa424"
      },
      "source": [
        "img,label= iter(train_loader).next()\n",
        "img1 = img[0].view(img[0].shape[0],-1).float()\n",
        "print(img1.shape)\n",
        "predict = model(img1.to(device))\n",
        "label = label[0][0].detach().numpy()"
      ],
      "execution_count": 16,
      "outputs": [
        {
          "output_type": "stream",
          "text": [
            "torch.Size([1, 784])\n"
          ],
          "name": "stdout"
        }
      ]
    },
    {
      "cell_type": "code",
      "metadata": {
        "id": "hvuhMqH5V7CY"
      },
      "source": [
        "predict_img = predict.view(1,28,28).detach().cpu().numpy()"
      ],
      "execution_count": 17,
      "outputs": []
    },
    {
      "cell_type": "code",
      "metadata": {
        "id": "cyVaaABoWd_M",
        "colab": {
          "base_uri": "https://localhost:8080/",
          "height": 179
        },
        "outputId": "c6e438f2-be84-4254-89b2-5d30e9c6ec48"
      },
      "source": [
        "plt.subplot(1,3,1)\n",
        "plt.imshow(img[0][0],cmap = \"gray\")\n",
        "plt.title(\"Noisy Image\")\n",
        "plt.subplot(1,3,2)\n",
        "plt.imshow(label,cmap = \"gray\")\n",
        "plt.title(\"Orignal Image\")\n",
        "plt.subplot(1,3,3)\n",
        "plt.imshow(predict_img[0],cmap = \"gray\")\n",
        "plt.title(\"Predicted Image\")\n"
      ],
      "execution_count": 21,
      "outputs": [
        {
          "output_type": "execute_result",
          "data": {
            "text/plain": [
              "Text(0.5, 1.0, 'Predicted Image')"
            ]
          },
          "metadata": {
            "tags": []
          },
          "execution_count": 21
        },
        {
          "output_type": "display_data",
          "data": {
            "image/png": "[encoded data removed]",
            "text/plain": [
              "<Figure size 432x288 with 3 Axes>"
            ]
          },
          "metadata": {
            "tags": [],
            "needs_background": "light"
          }
        }
      ]
    },
    {
      "cell_type": "code",
      "metadata": {
        "id": "fMVpQ07YWqeK"
      },
      "source": [
        ""
      ],
      "execution_count": null,
      "outputs": []
    }
  ]
}